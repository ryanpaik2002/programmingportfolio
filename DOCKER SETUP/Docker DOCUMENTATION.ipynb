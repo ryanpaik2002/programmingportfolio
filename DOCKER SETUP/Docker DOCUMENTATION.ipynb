{
 "cells": [
  {
   "cell_type": "markdown",
   "metadata": {},
   "source": [
    "DOCKER SETUP \n",
    "////////////////////\n",
    "Goals: Fully functional Docker Environment running the Python, Tensorflow, Keras, OpenCV Stack\n",
    "\n",
    "1. After Docker install, creating a docker container using Dockerfile then load an image\n",
    "2. making updates to that image\n",
    "3. Transferring files from local storage to container\n",
    "\n"
   ]
  },
  {
   "cell_type": "markdown",
   "metadata": {},
   "source": [
    "### Setting Docker up"
   ]
  },
  {
   "cell_type": "code",
   "execution_count": 3,
   "metadata": {},
   "outputs": [
    {
     "ename": "SyntaxError",
     "evalue": "invalid syntax (<ipython-input-3-0ca90f709d35>, line 8)",
     "output_type": "error",
     "traceback": [
      "\u001b[0;36m  File \u001b[0;32m\"<ipython-input-3-0ca90f709d35>\"\u001b[0;36m, line \u001b[0;32m8\u001b[0m\n\u001b[0;31m    touch Dockerfile\u001b[0m\n\u001b[0m                   ^\u001b[0m\n\u001b[0;31mSyntaxError\u001b[0m\u001b[0;31m:\u001b[0m invalid syntax\n"
     ]
    }
   ],
   "source": [
    "\n",
    "# Create Directory BASH\n",
    "mkdir \n",
    "\n",
    "# Make a docker file \n",
    "# For Dockerfile Creation - look up dockerfile documentation\n",
    "touch Dockerfile\n",
    "\n",
    "# Build docker image from Dockerfile in current directory\n",
    "docker build --tag <nameimage> .\n",
    "\n",
    "# run docker \n",
    "start docker through VSC\n",
    "# or\n",
    "\n",
    "# https://blog.codeship.com/the-basics-of-the-docker-run-command/\n",
    "docker run --rm -it -p <port> <containername> <image> \n",
    "docker run -it -p 8091:8091 containerName"
   ]
  },
  {
   "cell_type": "markdown",
   "metadata": {},
   "source": [
    "### Useful Docker Commands"
   ]
  },
  {
   "cell_type": "markdown",
   "metadata": {},
   "source": [
    "Reference Links\n",
    "\n",
    "[Docker Main Reference](https://docs.docker.com/engine/reference)\n",
    "\n",
    "[docker CLI](https://docs.docker.com/engine/reference/commandline/cli/)\n",
    "\n",
    "Command reference <br/>[docker run](https://docs.docker.com/engine/reference/run/)\n",
    "\n"
   ]
  },
  {
   "cell_type": "code",
   "execution_count": null,
   "metadata": {},
   "outputs": [],
   "source": [
    "#in terminal help\n",
    "docker --help\n",
    "# get specific help on CMD\n",
    "docker CMD --help \n",
    "\n",
    "\n",
    "# list running images\n",
    "docker images\n",
    "\n",
    "# Run a web App\n",
    "docker run --rm prakhar1989/static-site\n",
    "\n",
    "# lists running containers\n",
    "docker ps -a\n",
    "\n",
    "# stop an image\n",
    "docker stop <image>\n",
    "\n",
    "# deletes a container\n",
    "docker rmi <container>\n",
    "\n",
    "# deletes all dangling containers\n",
    "#https://docs.docker.com/engine/reference/commandline/system_prune/\n",
    "docker system prune\n",
    "\n",
    "\n",
    "\n",
    "##--------------------------------------------------------------------##\n",
    "## LOCAL FILE TRANSFERRING AND COMMITS\n",
    "\n",
    "# copy files from local computer to docker container\n",
    "# example\n",
    "$ docker ps\n",
    "CONTAINER ID  IMAGE    COMMAND  CREATED      STATUS      PORTS  NAMES\n",
    "72ca2488b353  my_image          X hours ago  Up X hours         my_container\n",
    "\n",
    "# Copy a file from host to container:\n",
    "docker cp foo.txt 72ca2488b353:/foo.txt\n",
    "\n",
    "# Copy a file from Docker container to host:\n",
    "docker cp 72ca2488b353:/foo.txt foo.txt\n",
    "\n",
    "    \n",
    "# create a new image from a container's changes\n",
    "# https://docs.docker.com/engine/reference/commandline/commit/\n",
    "docker commit [OPTIONS] CONTAINER [REPOSITORY[:TAG]]   \n",
    "\n",
    "# example\n",
    "$ docker ps\n",
    "CONTAINER ID        IMAGE               COMMAND             CREATED             STATUS              PORTS              NAMES\n",
    "c3f279d17e0a        ubuntu:12.04        /bin/bash           7 days ago          Up 25 hours                            desperate_dubinsky\n",
    "197387f1b436        ubuntu:12.04        /bin/bash           7 days ago          Up 25 hours                            focused_hamilton\n",
    "$ docker images\n",
    "REPOSITORY                        TAG                 ID                  CREATED             SIZE\n",
    "svendowideit/testimage            version3            f5283438590d        16 seconds ago      335.7 MB    \n",
    "\n",
    "$ docker commit c3f279d17e0a  svendowideit/testimage:version3\n",
    "##--------------------------------------------------------------------##\n",
    "\n",
    "\n",
    "\n",
    "# Assemble a final image\n",
    "docker assemble build --push /path/to/my/project\n"
   ]
  }
 ],
 "metadata": {
  "kernelspec": {
   "display_name": "Python 3",
   "language": "python",
   "name": "python3"
  },
  "language_info": {
   "codemirror_mode": {
    "name": "ipython",
    "version": 3
   },
   "file_extension": ".py",
   "mimetype": "text/x-python",
   "name": "python",
   "nbconvert_exporter": "python",
   "pygments_lexer": "ipython3",
   "version": "3.7.3"
  }
 },
 "nbformat": 4,
 "nbformat_minor": 2
}
