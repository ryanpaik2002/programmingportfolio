{
 "cells": [
  {
   "cell_type": "code",
   "execution_count": 25,
   "metadata": {},
   "outputs": [
    {
     "name": "stdout",
     "output_type": "stream",
     "text": [
      "The tensorboard extension is already loaded. To reload it, use:\n",
      "  %reload_ext tensorboard\n",
      "tensorflow           2.0.0               \n",
      "tensorflow-estimator 2.0.1               \n"
     ]
    },
    {
     "data": {
      "text/plain": [
       "ERROR: Failed to launch TensorBoard (exited with 1).\n",
       "Contents of stderr:\n",
       "Traceback (most recent call last):\n",
       "  File \"/Users/jb/anaconda3/envs/HeatonTF2/bin/tensorboard\", line 10, in <module>\n",
       "    sys.exit(run_main())\n",
       "  File \"/Users/jb/anaconda3/envs/HeatonTF2/lib/python3.7/site-packages/tensorboard/main.py\", line 64, in run_main\n",
       "    app.run(tensorboard.main, flags_parser=tensorboard.configure)\n",
       "  File \"/Users/jb/anaconda3/envs/HeatonTF2/lib/python3.7/site-packages/absl/app.py\", line 300, in run\n",
       "    _run_main(main, args)\n",
       "  File \"/Users/jb/anaconda3/envs/HeatonTF2/lib/python3.7/site-packages/absl/app.py\", line 251, in _run_main\n",
       "    sys.exit(main(argv))\n",
       "  File \"/Users/jb/anaconda3/envs/HeatonTF2/lib/python3.7/site-packages/tensorboard/program.py\", line 220, in main\n",
       "    server = self._make_server()\n",
       "  File \"/Users/jb/anaconda3/envs/HeatonTF2/lib/python3.7/site-packages/tensorboard/program.py\", line 299, in _make_server\n",
       "    self.assets_zip_provider)\n",
       "  File \"/Users/jb/anaconda3/envs/HeatonTF2/lib/python3.7/site-packages/tensorboard/backend/application.py\", line 157, in standard_tensorboard_wsgi\n",
       "    flags, plugin_loaders, data_provider, assets_zip_provider, multiplexer)\n",
       "  File \"/Users/jb/anaconda3/envs/HeatonTF2/lib/python3.7/site-packages/tensorboard/backend/application.py\", line 225, in TensorBoardWSGIApp\n",
       "    return TensorBoardWSGI(tbplugins, flags.path_prefix)\n",
       "  File \"/Users/jb/anaconda3/envs/HeatonTF2/lib/python3.7/site-packages/tensorboard/backend/application.py\", line 277, in __init__\n",
       "    raise ValueError('Duplicate plugins for name %s' % plugin.plugin_name)\n",
       "ValueError: Duplicate plugins for name projector"
      ]
     },
     "metadata": {},
     "output_type": "display_data"
    }
   ],
   "source": [
    "#REQUIREMENT TENSORBOARD MUST HAVE ACCESS TO PORT 6006\n",
    "# % - is a bash command to load tensorboard thru notebook through magics\n",
    "# NEEDS TO BE LOADED\n",
    "%load_ext tensorboarda\n",
    "!pip list | grep tensorflow\n",
    "\n",
    "import tensorflow as tf\n",
    "# !pip install --upgrade tensorflow\n",
    "\n",
    "import datetime, os\n",
    "from tensorflow.python import debug as tf_debug\n",
    "\n",
    "import keras\n",
    "import keras.backend\n",
    "from keras.preprocessing import sequence\n",
    "from keras.models import Sequential\n",
    "from keras.layers import Dense, Embedding, LSTM\n",
    "from keras.datasets import imdb\n",
    "\n",
    "# keras.backend.set_session(tf_debug.TensorBoardDebugWrapperSession(tf.Session(), \"localhost:6064\"))\n",
    "\n",
    "!rm -rf ./logs/ \n",
    "# sess = K.get_session()\n",
    "# sess = tf_debug.LocalCLIDebugWrapperSession(sess)\n",
    "# K.set_session(sess)\n",
    "%tensorboard --logdir /logs/Debugger "
   ]
  },
  {
   "cell_type": "code",
   "execution_count": 9,
   "metadata": {},
   "outputs": [],
   "source": [
    "fashion_mnist = tf.keras.datasets.fashion_mnist\n",
    "(x_train, y_train),(x_test, y_test) = fashion_mnist.load_data()\n",
    "x_train, x_test = x_train / 255.0, x_test / 255.0"
   ]
  },
  {
   "cell_type": "code",
   "execution_count": null,
   "metadata": {},
   "outputs": [],
   "source": []
  },
  {
   "cell_type": "raw",
   "metadata": {},
   "source": [
    "Create the model"
   ]
  },
  {
   "cell_type": "code",
   "execution_count": 10,
   "metadata": {},
   "outputs": [],
   "source": [
    "def create_model():\n",
    "  return tf.keras.models.Sequential([\n",
    "    tf.keras.layers.Flatten(input_shape=(28, 28)),\n",
    "    tf.keras.layers.Dense(512, activation='relu'),\n",
    "    tf.keras.layers.Dropout(0.2),\n",
    "    tf.keras.layers.Dense(10, activation='softmax')\n",
    "  ])"
   ]
  },
  {
   "cell_type": "code",
   "execution_count": null,
   "metadata": {},
   "outputs": [],
   "source": []
  },
  {
   "cell_type": "raw",
   "metadata": {},
   "source": [
    "Train the Model\n"
   ]
  },
  {
   "cell_type": "code",
   "execution_count": 11,
   "metadata": {},
   "outputs": [
    {
     "name": "stdout",
     "output_type": "stream",
     "text": [
      "Train on 60000 samples, validate on 10000 samples\n",
      "Epoch 1/5\n",
      "60000/60000 [==============================] - 8s 135us/sample - loss: 0.4965 - accuracy: 0.8212 - val_loss: 0.4010 - val_accuracy: 0.8564\n",
      "Epoch 2/5\n",
      "60000/60000 [==============================] - 7s 121us/sample - loss: 0.3831 - accuracy: 0.8598 - val_loss: 0.3902 - val_accuracy: 0.8566\n",
      "Epoch 3/5\n",
      "60000/60000 [==============================] - 7s 118us/sample - loss: 0.3484 - accuracy: 0.8730 - val_loss: 0.3611 - val_accuracy: 0.8699\n",
      "Epoch 4/5\n",
      "60000/60000 [==============================] - 7s 119us/sample - loss: 0.3269 - accuracy: 0.8785 - val_loss: 0.3573 - val_accuracy: 0.8720\n",
      "Epoch 5/5\n",
      "60000/60000 [==============================] - 7s 121us/sample - loss: 0.3126 - accuracy: 0.8846 - val_loss: 0.3459 - val_accuracy: 0.8758\n"
     ]
    }
   ],
   "source": [
    "def train_model():\n",
    "  \n",
    "  model = create_model()\n",
    "  model.compile(optimizer='adam',\n",
    "                loss='sparse_categorical_crossentropy',\n",
    "                metrics=['accuracy'])\n",
    "\n",
    "\n",
    "# INCLUDE TENSORBOARD CALL BACK\n",
    "# -------------------------------------------------------------------------------- #\n",
    "\n",
    "  logdir = os.path.join(\"logs\", datetime.datetime.now().strftime(\"%Y%m%d-%H%M%S\"))\n",
    "  tensorboard_callback = tf.keras.callbacks.TensorBoard(logdir, histogram_freq=1)\n",
    "\n",
    "# -------------------------------------------------------------------------------- #\n",
    "\n",
    "\n",
    "  model.fit(x=x_train, \n",
    "            y=y_train, \n",
    "            epochs=5, \n",
    "            validation_data=(x_test, y_test), \n",
    "            callbacks=[tensorboard_callback])\n",
    "\n",
    "    \n",
    "train_model()\n",
    "\n"
   ]
  },
  {
   "cell_type": "code",
   "execution_count": null,
   "metadata": {},
   "outputs": [],
   "source": []
  },
  {
   "cell_type": "code",
   "execution_count": 19,
   "metadata": {},
   "outputs": [
    {
     "data": {
      "text/plain": [
       "ERROR: Failed to launch TensorBoard (exited with 1).\n",
       "Contents of stderr:\n",
       "Traceback (most recent call last):\n",
       "  File \"/Users/jb/anaconda3/envs/HeatonTF2/bin/tensorboard\", line 10, in <module>\n",
       "    sys.exit(run_main())\n",
       "  File \"/Users/jb/anaconda3/envs/HeatonTF2/lib/python3.7/site-packages/tensorboard/main.py\", line 64, in run_main\n",
       "    app.run(tensorboard.main, flags_parser=tensorboard.configure)\n",
       "  File \"/Users/jb/anaconda3/envs/HeatonTF2/lib/python3.7/site-packages/absl/app.py\", line 300, in run\n",
       "    _run_main(main, args)\n",
       "  File \"/Users/jb/anaconda3/envs/HeatonTF2/lib/python3.7/site-packages/absl/app.py\", line 251, in _run_main\n",
       "    sys.exit(main(argv))\n",
       "  File \"/Users/jb/anaconda3/envs/HeatonTF2/lib/python3.7/site-packages/tensorboard/program.py\", line 220, in main\n",
       "    server = self._make_server()\n",
       "  File \"/Users/jb/anaconda3/envs/HeatonTF2/lib/python3.7/site-packages/tensorboard/program.py\", line 299, in _make_server\n",
       "    self.assets_zip_provider)\n",
       "  File \"/Users/jb/anaconda3/envs/HeatonTF2/lib/python3.7/site-packages/tensorboard/backend/application.py\", line 157, in standard_tensorboard_wsgi\n",
       "    flags, plugin_loaders, data_provider, assets_zip_provider, multiplexer)\n",
       "  File \"/Users/jb/anaconda3/envs/HeatonTF2/lib/python3.7/site-packages/tensorboard/backend/application.py\", line 225, in TensorBoardWSGIApp\n",
       "    return TensorBoardWSGI(tbplugins, flags.path_prefix)\n",
       "  File \"/Users/jb/anaconda3/envs/HeatonTF2/lib/python3.7/site-packages/tensorboard/backend/application.py\", line 277, in __init__\n",
       "    raise ValueError('Duplicate plugins for name %s' % plugin.plugin_name)\n",
       "ValueError: Duplicate plugins for name projector"
      ]
     },
     "metadata": {},
     "output_type": "display_data"
    }
   ],
   "source": [
    "# CALL TENSORBOARD \n",
    "%tensorboard --logdir logs\n",
    "# %tensorboard --logdir=logs --debugger_port 6064\n"
   ]
  },
  {
   "cell_type": "code",
   "execution_count": 13,
   "metadata": {},
   "outputs": [
    {
     "name": "stdout",
     "output_type": "stream",
     "text": [
      "No known TensorBoard instances running.\n"
     ]
    }
   ],
   "source": [
    "from tensorboard import notebook\n",
    "notebook.list() # View open TensorBoard instances"
   ]
  },
  {
   "cell_type": "code",
   "execution_count": 14,
   "metadata": {},
   "outputs": [
    {
     "data": {
      "text/html": [
       "\n",
       "      <iframe id=\"tensorboard-frame-9e93e8dcde172a5d\" width=\"100%\" height=\"1000\" frameborder=\"0\">\n",
       "      </iframe>\n",
       "      <script>\n",
       "        (function() {\n",
       "          const frame = document.getElementById(\"tensorboard-frame-9e93e8dcde172a5d\");\n",
       "          const url = new URL(\"/\", window.location);\n",
       "          url.port = 6006;\n",
       "          frame.src = url;\n",
       "        })();\n",
       "      </script>\n",
       "  "
      ],
      "text/plain": [
       "<IPython.core.display.HTML object>"
      ]
     },
     "metadata": {},
     "output_type": "display_data"
    }
   ],
   "source": [
    "# Control TensorBoard display. If no port is provided, \n",
    "# the most recently launched TensorBoard is used\n",
    "notebook.display(port=6006, height=1000) "
   ]
  },
  {
   "cell_type": "code",
   "execution_count": null,
   "metadata": {},
   "outputs": [],
   "source": []
  }
 ],
 "metadata": {
  "kernelspec": {
   "display_name": "Python 3",
   "language": "python",
   "name": "python3"
  },
  "language_info": {
   "codemirror_mode": {
    "name": "ipython",
    "version": 3
   },
   "file_extension": ".py",
   "mimetype": "text/x-python",
   "name": "python",
   "nbconvert_exporter": "python",
   "pygments_lexer": "ipython3",
   "version": "3.7.3"
  }
 },
 "nbformat": 4,
 "nbformat_minor": 2
}
