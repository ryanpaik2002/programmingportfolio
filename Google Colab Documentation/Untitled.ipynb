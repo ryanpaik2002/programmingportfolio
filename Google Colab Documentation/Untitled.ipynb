{
 "cells": [
  {
   "cell_type": "code",
   "execution_count": 3,
   "metadata": {},
   "outputs": [
    {
     "ename": "ModuleNotFoundError",
     "evalue": "No module named 'tensorflow.examples.tutorials'",
     "output_type": "error",
     "traceback": [
      "\u001b[0;31m---------------------------------------------------------------------------\u001b[0m",
      "\u001b[0;31mModuleNotFoundError\u001b[0m                       Traceback (most recent call last)",
      "\u001b[0;32m<ipython-input-3-c0a06a9a3e0e>\u001b[0m in \u001b[0;36m<module>\u001b[0;34m\u001b[0m\n\u001b[1;32m      1\u001b[0m \u001b[0;32mimport\u001b[0m \u001b[0mtensorflow\u001b[0m \u001b[0;32mas\u001b[0m \u001b[0mtf\u001b[0m\u001b[0;34m\u001b[0m\u001b[0;34m\u001b[0m\u001b[0m\n\u001b[0;32m----> 2\u001b[0;31m \u001b[0;32mfrom\u001b[0m \u001b[0mtensorflow\u001b[0m\u001b[0;34m.\u001b[0m\u001b[0mexamples\u001b[0m\u001b[0;34m.\u001b[0m\u001b[0mtutorials\u001b[0m\u001b[0;34m.\u001b[0m\u001b[0mmnist\u001b[0m \u001b[0;32mimport\u001b[0m \u001b[0minput_data\u001b[0m\u001b[0;34m\u001b[0m\u001b[0;34m\u001b[0m\u001b[0m\n\u001b[0m\u001b[1;32m      3\u001b[0m \u001b[0;34m\u001b[0m\u001b[0m\n\u001b[1;32m      4\u001b[0m \u001b[0;31m# Only log errors (to prevent unnecessary cluttering of the console)\u001b[0m\u001b[0;34m\u001b[0m\u001b[0;34m\u001b[0m\u001b[0;34m\u001b[0m\u001b[0m\n\u001b[1;32m      5\u001b[0m \u001b[0mtf\u001b[0m\u001b[0;34m.\u001b[0m\u001b[0mlogging\u001b[0m\u001b[0;34m.\u001b[0m\u001b[0mset_verbosity\u001b[0m\u001b[0;34m(\u001b[0m\u001b[0mtf\u001b[0m\u001b[0;34m.\u001b[0m\u001b[0mlogging\u001b[0m\u001b[0;34m.\u001b[0m\u001b[0mERROR\u001b[0m\u001b[0;34m)\u001b[0m\u001b[0;34m\u001b[0m\u001b[0;34m\u001b[0m\u001b[0m\n",
      "\u001b[0;31mModuleNotFoundError\u001b[0m: No module named 'tensorflow.examples.tutorials'"
     ]
    }
   ],
   "source": [
    "import tensorflow as tf\n",
    "from tensorflow.examples.tutorials.mnist import input_data\n",
    "\n",
    "# Only log errors (to prevent unnecessary cluttering of the console)\n",
    "tf.logging.set_verbosity(tf.logging.ERROR)\n",
    "\n",
    "# We use the TF helper function to pull down the data from the MNIST site\n",
    "mnist = input_data.read_data_sets(\"MNIST_data/\", one_hot=True)\n",
    "\n",
    "# x is the placeholder for the 28 x 28 image data (the input)\n",
    "# y_ is a 10 element vector, containing the predicted probability of each digit (0-9) class\n",
    "# Define the weights and balances (always keep the dimensions in mind)\n",
    "x = tf.placeholder(tf.float32, shape=[None, 784], name=\"x_placeholder\")\n",
    "y_ = tf.placeholder(tf.float32, shape=[None, 10], name=\"y_placeholder\")\n",
    "\n",
    "W = tf.Variable(tf.zeros([784, 10]), name=\"weights_variable\")\n",
    "b = tf.Variable(tf.zeros([10]), name=\"bias_variable\")\n",
    "\n",
    "# Define the activation function = the real y. Do not use softmax here, as it will be applied in the next step\n",
    "y = tf.matmul(x, W) + b\n",
    "\n",
    "# Loss is defined as cross entropy between the prediction and the real value\n",
    "# Each training step in gradient descent we want to minimize the loss\n",
    "loss = tf.reduce_mean(\n",
    "    tf.nn.softmax_cross_entropy_with_logits_v2(\n",
    "        labels=y_, logits=y, name=\"lossFunction\"\n",
    "    ),\n",
    "    name=\"loss\",\n",
    ")\n",
    "train_step = tf.train.GradientDescentOptimizer(0.5).minimize(loss, name=\"gradDescent\")\n",
    "\n",
    "# Initialize all variables\n",
    "\n",
    "# Perform the initialization which is only the initialization of all global variables\n",
    "init = tf.global_variables_initializer()\n",
    "\n",
    "# ------ Set Session or InteractiveSession\n",
    "sess = tf.Session()\n",
    "sess.run(init)\n",
    "\n",
    "# Perform 1000 training steps\n",
    "# Feed the next batch and run the training\n",
    "for i in range(1000):\n",
    "    batch_xs, batch_ys = mnist.train.next_batch(100)\n",
    "    sess.run(train_step, feed_dict={x: batch_xs, y_: batch_ys})\n",
    "\n",
    "# Evaluate the accuracy of the model\n",
    "correct_prediction = tf.equal(tf.argmax(y, 1), tf.argmax(y_, 1))\n",
    "accuracy = tf.reduce_mean(tf.cast(correct_prediction, tf.float32), name=\"accuracy\")\n",
    "\n",
    "test_accuracy = sess.run(\n",
    "    accuracy, feed_dict={x: mnist.test.images, y_: mnist.test.labels}\n",
    ")\n",
    "print(\"Test Accuracy: {}%\".format(test_accuracy * 100.0))\n",
    "\n",
    "sess.close()\n"
   ]
  },
  {
   "cell_type": "code",
   "execution_count": null,
   "metadata": {},
   "outputs": [],
   "source": []
  },
  {
   "cell_type": "code",
   "execution_count": null,
   "metadata": {},
   "outputs": [],
   "source": []
  }
 ],
 "metadata": {
  "kernelspec": {
   "display_name": "Python 3",
   "language": "python",
   "name": "python3"
  },
  "language_info": {
   "codemirror_mode": {
    "name": "ipython",
    "version": 3
   },
   "file_extension": ".py",
   "mimetype": "text/x-python",
   "name": "python",
   "nbconvert_exporter": "python",
   "pygments_lexer": "ipython3",
   "version": "3.7.3"
  }
 },
 "nbformat": 4,
 "nbformat_minor": 2
}
